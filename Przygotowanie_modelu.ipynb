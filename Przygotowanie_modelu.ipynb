{
 "cells": [
  {
   "cell_type": "markdown",
   "metadata": {},
   "source": [
    "### Uczenie początkowe\n",
    "\n",
    "Dane zostały przygotowane zgodnie z założeniami na w [instrukcji reprodukcji](https://github.com/ProjektCustomVisionKL/projekt-custom-vision-kl#instrukcje-reprodukcji), gdzie opisane są wymagane instalacje oraz rozmieszczenie plików i katalogów.\n",
    "\n",
    "Z uwagi na czas trwania kolejnych iteracji w pierwszej fazie uczenia wykonanych zostało 10 iteracji. Jako, że użyty model był wstępnie przetrenowanym modelem YOLOv3, użyta została funkcja `setModelTypeAsYOLOv3`."
   ]
  },
  {
   "cell_type": "code",
   "execution_count": 2,
   "metadata": {},
   "outputs": [
    {
     "name": "stdout",
     "output_type": "stream",
     "text": [
      "Generating anchor boxes for training images and annotation...\n",
      "Average IOU for 9 anchors: 0.68\n",
      "Anchor Boxes generated.\n",
      "Detection configuration saved in  data/json/detection_config.json\n",
      "Evaluating over 162 samples taken from data/validation\n",
      "Training over 476 samples  given at data/train\n",
      "Training on: \t['glass', 'metal', 'plastic']\n",
      "Training with Batch Size:  8\n",
      "Number of Training Samples:  476\n",
      "Number of Validation Samples:  162\n",
      "Number of Experiments:  10\n",
      "Training with transfer learning from pretrained Model\n",
      "WARNING:tensorflow:`period` argument is deprecated. Please use `save_freq` to specify the frequency in number of batches seen.\n",
      "WARNING:tensorflow:`epsilon` argument is deprecated and will be removed, use `min_delta` instead.\n"
     ]
    },
    {
     "name": "stderr",
     "output_type": "stream",
     "text": [
      "/home/dlubera/.local/lib/python3.8/site-packages/tensorflow/python/keras/engine/training.py:1844: UserWarning: `Model.fit_generator` is deprecated and will be removed in a future version. Please use `Model.fit`, which supports generators.\n",
      "  warnings.warn('`Model.fit_generator` is deprecated and '\n",
      "/home/dlubera/.local/lib/python3.8/site-packages/tensorflow/python/data/ops/dataset_ops.py:3503: UserWarning: Even though the tf.config.experimental_run_functions_eagerly option is set, this option does not apply to tf.data functions. tf.data functions are still traced and executed as graphs.\n",
      "  warnings.warn(\n"
     ]
    },
    {
     "name": "stdout",
     "output_type": "stream",
     "text": [
      "WARNING:tensorflow:Model failed to serialize as JSON. Ignoring... Layer YoloLayer has arguments in `__init__` and therefore must override `get_config`.\n",
      "Epoch 1/10\n",
      "480/480 [==============================] - 3276s 7s/step - loss: 82.5083 - yolo_layer_loss: 9.9438 - yolo_layer_1_loss: 20.2975 - yolo_layer_2_loss: 40.8128 - val_loss: 40.2648 - val_yolo_layer_loss: 0.4663 - val_yolo_layer_1_loss: 8.5795 - val_yolo_layer_2_loss: 21.9052\n",
      "Epoch 2/10\n",
      "480/480 [==============================] - 3229s 7s/step - loss: 40.7164 - yolo_layer_loss: 5.4302 - yolo_layer_1_loss: 10.3312 - yolo_layer_2_loss: 16.7229 - val_loss: 34.5691 - val_yolo_layer_loss: 0.8266 - val_yolo_layer_1_loss: 8.1414 - val_yolo_layer_2_loss: 19.3945\n",
      "Epoch 3/10\n",
      "480/480 [==============================] - 3180s 7s/step - loss: 35.9190 - yolo_layer_loss: 4.8264 - yolo_layer_1_loss: 9.4424 - yolo_layer_2_loss: 15.7802 - val_loss: 32.4014 - val_yolo_layer_loss: 0.7090 - val_yolo_layer_1_loss: 8.0653 - val_yolo_layer_2_loss: 18.4707\n",
      "Epoch 4/10\n",
      "480/480 [==============================] - 3048s 6s/step - loss: 33.6060 - yolo_layer_loss: 4.5811 - yolo_layer_1_loss: 8.6114 - yolo_layer_2_loss: 15.4171 - val_loss: 34.9269 - val_yolo_layer_loss: 2.5999 - val_yolo_layer_1_loss: 9.2968 - val_yolo_layer_2_loss: 18.3622\n",
      "Epoch 5/10\n",
      "480/480 [==============================] - 3047s 6s/step - loss: 33.2611 - yolo_layer_loss: 5.0449 - yolo_layer_1_loss: 8.6418 - yolo_layer_2_loss: 14.9828 - val_loss: 30.5502 - val_yolo_layer_loss: 1.2053 - val_yolo_layer_1_loss: 7.3003 - val_yolo_layer_2_loss: 17.5888\n",
      "Epoch 6/10\n",
      "480/480 [==============================] - 3004s 6s/step - loss: 32.3705 - yolo_layer_loss: 5.3572 - yolo_layer_1_loss: 8.0879 - yolo_layer_2_loss: 14.5131 - val_loss: 29.1953 - val_yolo_layer_loss: 0.6387 - val_yolo_layer_1_loss: 7.2001 - val_yolo_layer_2_loss: 17.1028\n",
      "Epoch 7/10\n",
      "480/480 [==============================] - 3062s 6s/step - loss: 32.1118 - yolo_layer_loss: 5.5066 - yolo_layer_1_loss: 7.8848 - yolo_layer_2_loss: 14.5093 - val_loss: 32.2288 - val_yolo_layer_loss: 1.6986 - val_yolo_layer_1_loss: 7.4085 - val_yolo_layer_2_loss: 19.0245\n",
      "Epoch 8/10\n",
      "480/480 [==============================] - 3056s 6s/step - loss: 31.2864 - yolo_layer_loss: 5.0050 - yolo_layer_1_loss: 8.0834 - yolo_layer_2_loss: 14.1358 - val_loss: 31.0366 - val_yolo_layer_loss: 3.5656 - val_yolo_layer_1_loss: 7.7466 - val_yolo_layer_2_loss: 15.7669\n",
      "Epoch 9/10\n",
      "480/480 [==============================] - 3057s 6s/step - loss: 30.3501 - yolo_layer_loss: 4.7723 - yolo_layer_1_loss: 7.9751 - yolo_layer_2_loss: 13.6772 - val_loss: 29.9957 - val_yolo_layer_loss: 1.4646 - val_yolo_layer_1_loss: 7.9279 - val_yolo_layer_2_loss: 16.7596\n",
      "Epoch 10/10\n",
      "480/480 [==============================] - 3266s 7s/step - loss: 30.6181 - yolo_layer_loss: 5.3584 - yolo_layer_1_loss: 8.0176 - yolo_layer_2_loss: 13.4260 - val_loss: 27.5789 - val_yolo_layer_loss: 0.8534 - val_yolo_layer_1_loss: 7.2466 - val_yolo_layer_2_loss: 15.7248\n"
     ]
    }
   ],
   "source": [
    "from imageai.Detection.Custom import DetectionModelTrainer\n",
    "\n",
    "trainer = DetectionModelTrainer()\n",
    "trainer.setModelTypeAsYOLOv3()\n",
    "trainer.setDataDirectory(data_directory=\"data\")\n",
    "trainer.setTrainConfig(object_names_array=[\"metal\", \"plastic\", \"glass\"], batch_size=8, num_experiments=10, train_from_pretrained_model=\"pretrained-yolov3.h5\")\n",
    "trainer.trainModel()"
   ]
  },
  {
   "cell_type": "markdown",
   "metadata": {},
   "source": [
    "Na podstawie kodu widać stopniowe wolną ale stopniową poprawnę jakości modelu (loss maleje)."
   ]
  },
  {
   "cell_type": "markdown",
   "metadata": {},
   "source": [
    "### Sprawdzenie jakości\n",
    "\n",
    "Korzystają z funckji `evaluateModel` można sprawdzić jakość wykrywania w każdej z iteracji modelu."
   ]
  },
  {
   "cell_type": "code",
   "execution_count": 5,
   "metadata": {
    "scrolled": false
   },
   "outputs": [
    {
     "name": "stdout",
     "output_type": "stream",
     "text": [
      "Starting Model evaluation....\n",
      "Evaluating over 162 samples taken from data/validation\n",
      "Training over 476 samples  given at data/train\n",
      "WARNING:tensorflow:No training configuration found in the save file, so the model was *not* compiled. Compile it manually.\n",
      "Model File:  data/models/detection_model-ex-001--loss-0055.955.h5 \n",
      "\n",
      "Evaluation samples:  162\n",
      "Using IoU:  0.5\n",
      "Using Object Threshold:  0.3\n",
      "Using Non-Maximum Suppression:  0.5\n",
      "glass: 0.0000\n",
      "metal: 0.0000\n",
      "plastic: 0.0000\n",
      "mAP: 0.0000\n",
      "===============================\n",
      "WARNING:tensorflow:No training configuration found in the save file, so the model was *not* compiled. Compile it manually.\n",
      "Model File:  data/models/detection_model-ex-002--loss-0038.880.h5 \n",
      "\n",
      "Evaluation samples:  162\n",
      "Using IoU:  0.5\n",
      "Using Object Threshold:  0.3\n",
      "Using Non-Maximum Suppression:  0.5\n",
      "glass: 0.0016\n",
      "metal: 0.0042\n",
      "plastic: 0.0051\n",
      "mAP: 0.0036\n",
      "===============================\n",
      "WARNING:tensorflow:No training configuration found in the save file, so the model was *not* compiled. Compile it manually.\n",
      "Model File:  data/models/detection_model-ex-003--loss-0035.620.h5 \n",
      "\n",
      "Evaluation samples:  162\n",
      "Using IoU:  0.5\n",
      "Using Object Threshold:  0.3\n",
      "Using Non-Maximum Suppression:  0.5\n",
      "glass: 0.0032\n",
      "metal: 0.0156\n",
      "plastic: 0.0345\n",
      "mAP: 0.0177\n",
      "===============================\n",
      "WARNING:tensorflow:No training configuration found in the save file, so the model was *not* compiled. Compile it manually.\n",
      "Model File:  data/models/detection_model-ex-004--loss-0033.748.h5 \n",
      "\n",
      "Evaluation samples:  162\n",
      "Using IoU:  0.5\n",
      "Using Object Threshold:  0.3\n",
      "Using Non-Maximum Suppression:  0.5\n",
      "glass: 0.0064\n",
      "metal: 0.0328\n",
      "plastic: 0.0763\n",
      "mAP: 0.0385\n",
      "===============================\n",
      "WARNING:tensorflow:No training configuration found in the save file, so the model was *not* compiled. Compile it manually.\n",
      "Model File:  data/models/detection_model-ex-005--loss-0033.127.h5 \n",
      "\n",
      "Evaluation samples:  162\n",
      "Using IoU:  0.5\n",
      "Using Object Threshold:  0.3\n",
      "Using Non-Maximum Suppression:  0.5\n",
      "glass: 0.0046\n",
      "metal: 0.0471\n",
      "plastic: 0.0956\n",
      "mAP: 0.0491\n",
      "===============================\n",
      "WARNING:tensorflow:No training configuration found in the save file, so the model was *not* compiled. Compile it manually.\n",
      "Model File:  data/models/detection_model-ex-006--loss-0032.148.h5 \n",
      "\n",
      "Evaluation samples:  162\n",
      "Using IoU:  0.5\n",
      "Using Object Threshold:  0.3\n",
      "Using Non-Maximum Suppression:  0.5\n",
      "glass: 0.0103\n",
      "metal: 0.0262\n",
      "plastic: 0.1111\n",
      "mAP: 0.0492\n",
      "===============================\n",
      "WARNING:tensorflow:No training configuration found in the save file, so the model was *not* compiled. Compile it manually.\n",
      "Model File:  data/models/detection_model-ex-007--loss-0032.072.h5 \n",
      "\n",
      "Evaluation samples:  162\n",
      "Using IoU:  0.5\n",
      "Using Object Threshold:  0.3\n",
      "Using Non-Maximum Suppression:  0.5\n",
      "glass: 0.0147\n",
      "metal: 0.0244\n",
      "plastic: 0.0596\n",
      "mAP: 0.0329\n",
      "===============================\n",
      "WARNING:tensorflow:No training configuration found in the save file, so the model was *not* compiled. Compile it manually.\n",
      "Model File:  data/models/detection_model-ex-008--loss-0030.783.h5 \n",
      "\n",
      "Evaluation samples:  162\n",
      "Using IoU:  0.5\n",
      "Using Object Threshold:  0.3\n",
      "Using Non-Maximum Suppression:  0.5\n",
      "glass: 0.0120\n",
      "metal: 0.1008\n",
      "plastic: 0.1763\n",
      "mAP: 0.0964\n",
      "===============================\n",
      "WARNING:tensorflow:No training configuration found in the save file, so the model was *not* compiled. Compile it manually.\n",
      "Model File:  data/models/detection_model-ex-009--loss-0030.589.h5 \n",
      "\n",
      "Evaluation samples:  162\n",
      "Using IoU:  0.5\n",
      "Using Object Threshold:  0.3\n",
      "Using Non-Maximum Suppression:  0.5\n",
      "glass: 0.0195\n",
      "metal: 0.1004\n",
      "plastic: 0.1533\n",
      "mAP: 0.0911\n",
      "===============================\n",
      "WARNING:tensorflow:No training configuration found in the save file, so the model was *not* compiled. Compile it manually.\n",
      "Model File:  data/models/detection_model-ex-010--loss-0030.442.h5 \n",
      "\n",
      "Evaluation samples:  162\n",
      "Using IoU:  0.5\n",
      "Using Object Threshold:  0.3\n",
      "Using Non-Maximum Suppression:  0.5\n",
      "glass: 0.0159\n",
      "metal: 0.1430\n",
      "plastic: 0.1971\n",
      "mAP: 0.1187\n",
      "===============================\n"
     ]
    }
   ],
   "source": [
    "from imageai.Detection.Custom import DetectionModelTrainer\n",
    "\n",
    "trainer = DetectionModelTrainer()\n",
    "trainer.setModelTypeAsYOLOv3()\n",
    "trainer.setDataDirectory(data_directory=\"data\")\n",
    "metrics = trainer.evaluateModel(model_path=\"data/models\", json_path=\"data/json/detection_config.json\", iou_threshold=0.5, object_threshold=0.3, nms_threshold=0.5)"
   ]
  },
  {
   "cell_type": "markdown",
   "metadata": {},
   "source": [
    "Informacje podane wyżej jak np: `metal: 0.1430` oznaczają precyzję dla konkretnej etykiety. Jak widać jakośc nie jest zachwycająca."
   ]
  },
  {
   "cell_type": "markdown",
   "metadata": {},
   "source": [
    "### Detekcja\n",
    "\n",
    "Korzystając z klasy `CustomObjectDetection` użyliśmy stworzonego modelu po 10 iteracji i przetestowaliśmy wykrywanie. Obszar wykrycia był poprawy, jednakże minusem było to, że w tym samym miejscu wykryło zarówno metal jak i plastik (plastik został wykryty z większym prawdopodobieństwem), a faktycznie był tam sam plastik."
   ]
  },
  {
   "cell_type": "code",
   "execution_count": 19,
   "metadata": {},
   "outputs": [],
   "source": [
    "from imageai.Detection.Custom import CustomObjectDetection\n",
    "import os\n",
    "\n",
    "detector = CustomObjectDetection()\n",
    "detector.setModelTypeAsYOLOv3()\n",
    "detector.setModelPath(\"data/models/detection_model-ex-010--loss-0030.442.h5\")\n",
    "detector.setJsonPath(\"data/json/detection_config.json\")\n",
    "detector.loadModel()"
   ]
  },
  {
   "cell_type": "code",
   "execution_count": 26,
   "metadata": {},
   "outputs": [
    {
     "data": {
      "text/plain": [
       "[{'name': 'metal',\n",
       "  'percentage_probability': 58.424848318099976,\n",
       "  'box_points': [146, 384, 231, 407]},\n",
       " {'name': 'plastic',\n",
       "  'percentage_probability': 75.00083446502686,\n",
       "  'box_points': [146, 384, 231, 407]}]"
      ]
     },
     "execution_count": 26,
     "metadata": {},
     "output_type": "execute_result"
    }
   ],
   "source": [
    "detections, extracted_objects_array = detector.detectObjectsFromImage(input_image=\"data/test/46939963335_3c4167e593_z.jpg\", output_image_path=\"detected.jpg\", extract_detected_objects=True)\n",
    "\n",
    "detections"
   ]
  },
  {
   "cell_type": "markdown",
   "metadata": {},
   "source": [
    "### Douczanie\n",
    "\n",
    "Aby douczyć model skorzystaliśmy z tych samych funkcji co przy pierwszej fazie uczenia, jednakże jako pretrenowany model został użyty model stworzony w 10 iteracji fazy uczenia."
   ]
  },
  {
   "cell_type": "code",
   "execution_count": 1,
   "metadata": {},
   "outputs": [
    {
     "name": "stdout",
     "output_type": "stream",
     "text": [
      "Generating anchor boxes for training images and annotation...\n",
      "Average IOU for 9 anchors: 0.68\n",
      "Anchor Boxes generated.\n",
      "Detection configuration saved in  data/json/detection_config.json\n",
      "Evaluating over 162 samples taken from data/validation\n",
      "Training over 476 samples  given at data/train\n",
      "Training on: \t['glass', 'metal', 'plastic']\n",
      "Training with Batch Size:  8\n",
      "Number of Training Samples:  476\n",
      "Number of Validation Samples:  162\n",
      "Number of Experiments:  8\n",
      "Training with transfer learning from pretrained Model\n",
      "WARNING:tensorflow:`period` argument is deprecated. Please use `save_freq` to specify the frequency in number of batches seen.\n",
      "WARNING:tensorflow:`epsilon` argument is deprecated and will be removed, use `min_delta` instead.\n"
     ]
    },
    {
     "name": "stderr",
     "output_type": "stream",
     "text": [
      "/home/dlubera/.local/lib/python3.8/site-packages/tensorflow/python/keras/engine/training.py:1844: UserWarning: `Model.fit_generator` is deprecated and will be removed in a future version. Please use `Model.fit`, which supports generators.\n",
      "  warnings.warn('`Model.fit_generator` is deprecated and '\n"
     ]
    },
    {
     "name": "stdout",
     "output_type": "stream",
     "text": [
      "WARNING:tensorflow:Model failed to serialize as JSON. Ignoring... Layer YoloLayer has arguments in `__init__` and therefore must override `get_config`.\n"
     ]
    },
    {
     "name": "stderr",
     "output_type": "stream",
     "text": [
      "/home/dlubera/.local/lib/python3.8/site-packages/tensorflow/python/data/ops/dataset_ops.py:3503: UserWarning: Even though the tf.config.experimental_run_functions_eagerly option is set, this option does not apply to tf.data functions. tf.data functions are still traced and executed as graphs.\n",
      "  warnings.warn(\n"
     ]
    },
    {
     "name": "stdout",
     "output_type": "stream",
     "text": [
      "Epoch 1/8\n",
      "480/480 [==============================] - 2998s 6s/step - loss: 29.1350 - yolo_layer_loss: 4.7929 - yolo_layer_1_loss: 7.4442 - yolo_layer_2_loss: 13.1638 - val_loss: 27.6319 - val_yolo_layer_loss: 0.7971 - val_yolo_layer_1_loss: 7.5850 - val_yolo_layer_2_loss: 15.5732\n",
      "Epoch 2/8\n",
      "480/480 [==============================] - 2779s 6s/step - loss: 28.4966 - yolo_layer_loss: 4.7846 - yolo_layer_1_loss: 6.9157 - yolo_layer_2_loss: 13.1367 - val_loss: 27.1584 - val_yolo_layer_loss: 0.5992 - val_yolo_layer_1_loss: 6.8604 - val_yolo_layer_2_loss: 16.0838\n",
      "Epoch 3/8\n",
      "480/480 [==============================] - 3157s 7s/step - loss: 29.3163 - yolo_layer_loss: 5.4352 - yolo_layer_1_loss: 7.6095 - yolo_layer_2_loss: 12.6724 - val_loss: 26.7743 - val_yolo_layer_loss: 1.0131 - val_yolo_layer_1_loss: 7.2367 - val_yolo_layer_2_loss: 14.9628\n",
      "Epoch 4/8\n",
      "480/480 [==============================] - 2890s 6s/step - loss: 27.7025 - yolo_layer_loss: 4.8039 - yolo_layer_1_loss: 6.6992 - yolo_layer_2_loss: 12.6509 - val_loss: 26.5340 - val_yolo_layer_loss: 1.1134 - val_yolo_layer_1_loss: 6.9489 - val_yolo_layer_2_loss: 14.9655\n",
      "Epoch 5/8\n",
      "480/480 [==============================] - 3126s 7s/step - loss: 28.2790 - yolo_layer_loss: 5.1113 - yolo_layer_1_loss: 7.2777 - yolo_layer_2_loss: 12.3950 - val_loss: 27.0866 - val_yolo_layer_loss: 1.2035 - val_yolo_layer_1_loss: 7.2423 - val_yolo_layer_2_loss: 15.1786\n",
      "Epoch 6/8\n",
      "480/480 [==============================] - 3124s 7s/step - loss: 27.4128 - yolo_layer_loss: 5.1727 - yolo_layer_1_loss: 6.8471 - yolo_layer_2_loss: 11.9401 - val_loss: 26.6474 - val_yolo_layer_loss: 0.9560 - val_yolo_layer_1_loss: 7.0312 - val_yolo_layer_2_loss: 15.2364\n",
      "Epoch 7/8\n",
      "480/480 [==============================] - 3133s 7s/step - loss: 27.9708 - yolo_layer_loss: 5.4019 - yolo_layer_1_loss: 7.1323 - yolo_layer_2_loss: 12.0222 - val_loss: 26.3511 - val_yolo_layer_loss: 0.9592 - val_yolo_layer_1_loss: 7.1249 - val_yolo_layer_2_loss: 14.8839\n",
      "Epoch 8/8\n",
      "480/480 [==============================] - 2901s 6s/step - loss: 27.4523 - yolo_layer_loss: 5.3942 - yolo_layer_1_loss: 6.4998 - yolo_layer_2_loss: 12.1773 - val_loss: 25.5378 - val_yolo_layer_loss: 0.7412 - val_yolo_layer_1_loss: 6.6560 - val_yolo_layer_2_loss: 14.7852\n"
     ]
    }
   ],
   "source": [
    "from imageai.Detection.Custom import DetectionModelTrainer\n",
    "\n",
    "trainer = DetectionModelTrainer()\n",
    "trainer.setModelTypeAsYOLOv3()\n",
    "trainer.setDataDirectory(data_directory=\"data\")\n",
    "trainer.setTrainConfig(object_names_array=[\"metal\", \"plastic\", \"glass\"], batch_size=8, num_experiments=8, train_from_pretrained_model=\"detection_model-ex-010--loss-0030.442.h5\")\n",
    "trainer.trainModel()"
   ]
  },
  {
   "cell_type": "markdown",
   "metadata": {},
   "source": [
    "Tutaj również widać wolną ale ciągłą poprawę modelu."
   ]
  },
  {
   "cell_type": "markdown",
   "metadata": {},
   "source": [
    "### Sprawdzanie jakości po douczeniu\n",
    "\n",
    "W wynikach sprawdzania widać, że większość z iteracji poprawiała precyzję modelu i korzystając z kolejnych iteracji model mógłby działać jeszcze lepiej, jednakże ze względu na czas obliczeń musieliśmy zadowolić się modelem stworzonym w ostatniej iteracji. Podany model został użyty do stworzenia API wykrywającego obiekty."
   ]
  },
  {
   "cell_type": "code",
   "execution_count": 1,
   "metadata": {},
   "outputs": [
    {
     "name": "stdout",
     "output_type": "stream",
     "text": [
      "Starting Model evaluation....\n",
      "Evaluating over 162 samples taken from data/validation\n",
      "Training over 476 samples  given at data/train\n",
      "WARNING:tensorflow:No training configuration found in the save file, so the model was *not* compiled. Compile it manually.\n",
      "Model File:  data/models/detection_model-ex-001--loss-0029.354.h5 \n",
      "\n",
      "Evaluation samples:  162\n",
      "Using IoU:  0.5\n",
      "Using Object Threshold:  0.3\n",
      "Using Non-Maximum Suppression:  0.5\n",
      "glass: 0.0234\n",
      "metal: 0.1528\n",
      "plastic: 0.1950\n",
      "mAP: 0.1237\n",
      "===============================\n",
      "WARNING:tensorflow:No training configuration found in the save file, so the model was *not* compiled. Compile it manually.\n",
      "Model File:  data/models/detection_model-ex-002--loss-0028.724.h5 \n",
      "\n",
      "Evaluation samples:  162\n",
      "Using IoU:  0.5\n",
      "Using Object Threshold:  0.3\n",
      "Using Non-Maximum Suppression:  0.5\n",
      "glass: 0.0151\n",
      "metal: 0.1804\n",
      "plastic: 0.1480\n",
      "mAP: 0.1145\n",
      "===============================\n",
      "WARNING:tensorflow:No training configuration found in the save file, so the model was *not* compiled. Compile it manually.\n",
      "Model File:  data/models/detection_model-ex-003--loss-0035.620.h5 \n",
      "\n",
      "Evaluation samples:  162\n",
      "Using IoU:  0.5\n",
      "Using Object Threshold:  0.3\n",
      "Using Non-Maximum Suppression:  0.5\n",
      "glass: 0.0032\n",
      "metal: 0.0156\n",
      "plastic: 0.0345\n",
      "mAP: 0.0178\n",
      "===============================\n",
      "WARNING:tensorflow:No training configuration found in the save file, so the model was *not* compiled. Compile it manually.\n",
      "Model File:  data/models/detection_model-ex-004--loss-0033.748.h5 \n",
      "\n",
      "Evaluation samples:  162\n",
      "Using IoU:  0.5\n",
      "Using Object Threshold:  0.3\n",
      "Using Non-Maximum Suppression:  0.5\n",
      "glass: 0.0064\n",
      "metal: 0.0339\n",
      "plastic: 0.0711\n",
      "mAP: 0.0371\n",
      "===============================\n",
      "WARNING:tensorflow:No training configuration found in the save file, so the model was *not* compiled. Compile it manually.\n",
      "Model File:  data/models/detection_model-ex-006--loss-0027.590.h5 \n",
      "\n",
      "Evaluation samples:  162\n",
      "Using IoU:  0.5\n",
      "Using Object Threshold:  0.3\n",
      "Using Non-Maximum Suppression:  0.5\n",
      "glass: 0.0393\n",
      "metal: 0.1955\n",
      "plastic: 0.2708\n",
      "mAP: 0.1685\n",
      "===============================\n",
      "WARNING:tensorflow:No training configuration found in the save file, so the model was *not* compiled. Compile it manually.\n",
      "Model File:  data/models/detection_model-ex-007--loss-0027.485.h5 \n",
      "\n",
      "Evaluation samples:  162\n",
      "Using IoU:  0.5\n",
      "Using Object Threshold:  0.3\n",
      "Using Non-Maximum Suppression:  0.5\n",
      "glass: 0.0392\n",
      "metal: 0.1841\n",
      "plastic: 0.2410\n",
      "mAP: 0.1547\n",
      "===============================\n",
      "WARNING:tensorflow:No training configuration found in the save file, so the model was *not* compiled. Compile it manually.\n",
      "Model File:  data/models/detection_model-ex-008--loss-0027.111.h5 \n",
      "\n",
      "Evaluation samples:  162\n",
      "Using IoU:  0.5\n",
      "Using Object Threshold:  0.3\n",
      "Using Non-Maximum Suppression:  0.5\n",
      "glass: 0.0852\n",
      "metal: 0.2382\n",
      "plastic: 0.3006\n",
      "mAP: 0.2080\n",
      "===============================\n"
     ]
    }
   ],
   "source": [
    "from imageai.Detection.Custom import DetectionModelTrainer\n",
    "\n",
    "trainer = DetectionModelTrainer()\n",
    "trainer.setModelTypeAsYOLOv3()\n",
    "trainer.setDataDirectory(data_directory=\"data\")\n",
    "metrics = trainer.evaluateModel(model_path=\"data/models\", json_path=\"data/json/detection_config.json\", iou_threshold=0.5, object_threshold=0.3, nms_threshold=0.5)"
   ]
  }
 ],
 "metadata": {
  "kernelspec": {
   "display_name": "Python 3",
   "language": "python",
   "name": "python3"
  },
  "language_info": {
   "codemirror_mode": {
    "name": "ipython",
    "version": 3
   },
   "file_extension": ".py",
   "mimetype": "text/x-python",
   "name": "python",
   "nbconvert_exporter": "python",
   "pygments_lexer": "ipython3",
   "version": "3.8.5"
  }
 },
 "nbformat": 4,
 "nbformat_minor": 4
}
